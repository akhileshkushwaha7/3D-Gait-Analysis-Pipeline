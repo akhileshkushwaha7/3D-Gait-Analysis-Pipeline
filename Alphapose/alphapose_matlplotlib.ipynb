{
 "cells": [
  {
   "cell_type": "code",
   "execution_count": 3,
   "id": "8cb9769f",
   "metadata": {},
   "outputs": [
    {
     "name": "stdout",
     "output_type": "stream",
     "text": [
      "Excel file saved to output/alphapose-results.xlsx\n"
     ]
    }
   ],
   "source": [
    "import json\n",
    "import pandas as pd\n",
    "from collections import Counter\n",
    "\n",
    "# Load the AlphaPose JSON file\n",
    "json_path = r'C:\\Users\\akhileshsing2024\\AlphaPose\\output\\alphapose-results.json'\n",
    "with open(json_path, 'r') as f:\n",
    "    data = json.load(f)\n",
    "\n",
    "# Define COCO keypoint names (17 keypoints)\n",
    "keypoint_names = [\n",
    "    'nose', 'left_eye', 'right_eye', 'left_ear', 'right_ear',\n",
    "    'left_shoulder', 'right_shoulder', 'left_elbow', 'right_elbow',\n",
    "    'left_wrist', 'right_wrist', 'left_hip', 'right_hip',\n",
    "    'left_knee', 'right_knee', 'left_ankle', 'right_ankle'\n",
    "]\n",
    "\n",
    "# Prepare data for DataFrame\n",
    "rows = []\n",
    "for entry in data:\n",
    "    row = {\n",
    "        'image_id': entry.get('image_id', ''),\n",
    "        'track_id': entry.get('idx', None),  # Using idx as track_id\n",
    "        'score': entry.get('score', 0.0),\n",
    "        'box_x': entry.get('box', [0, 0, 0, 0])[0],\n",
    "        'box_y': entry.get('box', [0, 0, 0, 0])[1],\n",
    "        'box_width': entry.get('box', [0, 0, 0, 0])[2],\n",
    "        'box_height': entry.get('box', [0, 0, 0, 0])[3]\n",
    "    }\n",
    "    # Extract keypoints\n",
    "    keypoints = entry.get('keypoints', [])\n",
    "    for i, name in enumerate(keypoint_names):\n",
    "        row[f'{name}_x'] = keypoints[i * 3] if len(keypoints) > i * 3 else 0\n",
    "        row[f'{name}_y'] = keypoints[i * 3 + 1] if len(keypoints) > i * 3 + 1 else 0\n",
    "        row[f'{name}_conf'] = keypoints[i * 3 + 2] if len(keypoints) > i * 3 + 2 else 0\n",
    "    rows.append(row)\n",
    "\n",
    "# Create DataFrame\n",
    "df = pd.DataFrame(rows)\n",
    "\n",
    "# Save to Excel\n",
    "excel_path = 'output/alphapose-results.xlsx'\n",
    "df.to_excel(excel_path, index=False, engine='openpyxl')\n",
    "\n",
    "print(f\"Excel file saved to {excel_path}\")"
   ]
  },
  {
   "cell_type": "code",
   "execution_count": null,
   "id": "0e164bb9",
   "metadata": {},
   "outputs": [],
   "source": []
  }
 ],
 "metadata": {
  "kernelspec": {
   "display_name": "depth",
   "language": "python",
   "name": "python3"
  },
  "language_info": {
   "codemirror_mode": {
    "name": "ipython",
    "version": 3
   },
   "file_extension": ".py",
   "mimetype": "text/x-python",
   "name": "python",
   "nbconvert_exporter": "python",
   "pygments_lexer": "ipython3",
   "version": "3.13.5"
  }
 },
 "nbformat": 4,
 "nbformat_minor": 5
}
